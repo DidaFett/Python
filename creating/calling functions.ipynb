{
  "nbformat": 4,
  "nbformat_minor": 0,
  "metadata": {
    "colab": {
      "provenance": [],
      "authorship_tag": "ABX9TyMtrUOu/fSTzQpHDS0jQWoO",
      "include_colab_link": true
    },
    "kernelspec": {
      "name": "python3",
      "display_name": "Python 3"
    },
    "language_info": {
      "name": "python"
    }
  },
  "cells": [
    {
      "cell_type": "markdown",
      "metadata": {
        "id": "view-in-github",
        "colab_type": "text"
      },
      "source": [
        "<a href=\"https://colab.research.google.com/github/DidaFett/Python/blob/main/creating/calling%20functions.ipynb\" target=\"_parent\"><img src=\"https://colab.research.google.com/assets/colab-badge.svg\" alt=\"Open In Colab\"/></a>"
      ]
    },
    {
      "cell_type": "code",
      "execution_count": 3,
      "metadata": {
        "id": "u1EHBe5K4-o4",
        "colab": {
          "base_uri": "https://localhost:8080/"
        },
        "outputId": "62eedb23-c82b-4b6f-c1b8-19d209e32907"
      },
      "outputs": [
        {
          "output_type": "stream",
          "name": "stdout",
          "text": [
            "Welcome! You're logged in\n"
          ]
        }
      ],
      "source": [
        "# Define a function\n",
        "\n",
        "def greet_employee():\n",
        "  print(\"Welcome! You're logged in\")\n",
        "\n",
        "# Call the function\n",
        "greet_employee()"
      ]
    }
  ]
}